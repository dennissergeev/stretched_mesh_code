{
 "cells": [
  {
   "cell_type": "markdown",
   "id": "2f3c25ff-0ee2-4921-9f70-70e4ee39ef61",
   "metadata": {},
   "source": [
    "# Regrid LFRic data"
   ]
  },
  {
   "cell_type": "code",
   "execution_count": null,
   "id": "d241d0d0-c777-4ab4-bffd-5b231b8621b9",
   "metadata": {},
   "outputs": [],
   "source": [
    "import warnings\n",
    "\n",
    "warnings.filterwarnings(\"ignore\")\n",
    "\n",
    "from functools import partial\n",
    "from pathlib import Path\n",
    "\n",
    "import iris\n",
    "import numpy as np\n",
    "import paths\n",
    "from aeolus.calc import last_n_day_mean, time_mean, zonal_mean\n",
    "from aeolus.const import add_planet_conf_to_cubes, init_const\n",
    "from aeolus.io import create_dummy_cube, load_data, save_cubelist\n",
    "from aeolus.lfric import (\n",
    "    add_um_height_coord,\n",
    "    fix_time_coord,\n",
    "    load_lfric_raw,\n",
    "    simple_regrid_lfric,\n",
    "    ugrid_spatial,\n",
    ")\n",
    "from esmf_regrid.experimental.unstructured_scheme import regrid_unstructured_to_unstructured\n",
    "from aeolus.model import lfric\n",
    "from common import SIMULATIONS, SPINUP_DAYS\n",
    "\n",
    "import os\n",
    "\n",
    "os.environ[\"PROJ_IGNORE_CELESTIAL_BODY\"] = \"YES\""
   ]
  },
  {
   "cell_type": "code",
   "execution_count": null,
   "id": "a638923d-de26-4d83-81e3-a44f80a4bd10",
   "metadata": {},
   "outputs": [],
   "source": [
    "sim_label = \"hab1_mod_c192p\"\n",
    "# const = init_const(planet, directory=paths.const)\n",
    "\n",
    "time_prof = \"inst_diag\"\n",
    "# time_prof = \"averages\""
   ]
  },
  {
   "cell_type": "code",
   "execution_count": null,
   "id": "386b1ced-4169-4331-8401-4b0c54de927d",
   "metadata": {},
   "outputs": [],
   "source": [
    "grid_cell_area = load_lfric_raw(\n",
    "    paths.data_raw\n",
    "    / SIMULATIONS[sim_label].work_name\n",
    "    / \"1\"\n",
    "    / f\"run*\"\n",
    "    / \"lfric_initial.nc\",\n",
    ").extract_cube(\"grid_cell_area\")\n",
    "grid_cell_area.attributes.pop(\"invalid_standard_name\");\n",
    "# cell_width = grid_cell_area**0.5\n",
    "# cell_width.convert_units(\"km\")\n",
    "# cell_width.rename(\"grid_cell_width\")\n",
    "# cell_width.attributes.pop(\"invalid_standard_name\");"
   ]
  },
  {
   "cell_type": "code",
   "execution_count": null,
   "id": "efdecd44-d7fe-4f60-a133-7722467c1532",
   "metadata": {},
   "outputs": [],
   "source": [
    "add_levs = partial(\n",
    "    add_um_height_coord,\n",
    "    path_to_levels_file=paths.vert / f\"vertlevs_{SIMULATIONS[sim_label].vert_lev}\",\n",
    ")\n",
    "\n",
    "\n",
    "def combi_callback(cube, field, filename):\n",
    "    [\n",
    "        fix_time_coord(cube, field, filename),\n",
    "        add_levs(cube, field, filename),\n",
    "    ]"
   ]
  },
  {
   "cell_type": "code",
   "execution_count": null,
   "id": "b77ff3ef-22ba-43be-a2b1-e6a83e2f7d3a",
   "metadata": {},
   "outputs": [],
   "source": [
    "fnames = sorted(\n",
    "    paths.data_raw.glob(\n",
    "        str(\n",
    "            Path(SIMULATIONS[sim_label].work_name)\n",
    "            / \"*\"\n",
    "            / \"run_lfric_atm_*\"\n",
    "            / f\"lfric_{time_prof}.nc\"\n",
    "        )\n",
    "    ),\n",
    "    key=lambda x: int(x.parent.parent.name),\n",
    ")\n",
    "\n",
    "fnames = [\n",
    "    i\n",
    "    for i in fnames\n",
    "    if int(i.parent.parent.name) * SIMULATIONS[sim_label].days_per_job > SPINUP_DAYS\n",
    "]"
   ]
  },
  {
   "cell_type": "code",
   "execution_count": null,
   "id": "90cbd5a9-ff80-45c0-b5ab-d9bfb46aced3",
   "metadata": {},
   "outputs": [],
   "source": [
    "dset_raw = load_lfric_raw(\n",
    "    fnames,\n",
    "    callback=combi_callback,\n",
    "    drop_coord=[\"forecast_reference_time\"],\n",
    ")\n",
    "for cube in dset_raw:\n",
    "    if cube.units == \"ms-1\":\n",
    "        cube.units = \"m s-1\"\n",
    "\n",
    "for i, cube in enumerate(dset_raw):\n",
    "    print(f\"---|---|-{'-'*30}-|-{'-'*60}\")\n",
    "    print(f\"{i:<2d} | {cube.ndim} | {cube.var_name:>30} | {cube.name():>60}\")"
   ]
  },
  {
   "cell_type": "markdown",
   "id": "1ad8f893-1467-4ddb-b89f-7d685693600d",
   "metadata": {},
   "source": [
    "## Unstructured -> unstructured"
   ]
  },
  {
   "cell_type": "code",
   "execution_count": null,
   "id": "8ddf98bb-768b-44bc-a07a-8f6eecf0ee06",
   "metadata": {},
   "outputs": [],
   "source": [
    "tgt_sim_label = \"hab1_mod_c192s10e\"\n",
    "tgt_cube = load_lfric_raw(\n",
    "    paths.data_raw\n",
    "    / SIMULATIONS[tgt_sim_label].work_name\n",
    "    / \"1\"\n",
    "    / f\"run*\"\n",
    "    / \"lfric_initial.nc\",\n",
    ").extract_cube(\"grid_cell_area\")"
   ]
  },
  {
   "cell_type": "code",
   "execution_count": null,
   "id": "d54b2e39-2241-44b4-b2b0-dfc434dce5fc",
   "metadata": {},
   "outputs": [],
   "source": [
    "%%time\n",
    "dset_regr = iris.cube.CubeList()\n",
    "for src_cube in dset_raw:\n",
    "    dset_regr.append(regrid_unstructured_to_unstructured(src_cube, tgt_cube))"
   ]
  },
  {
   "cell_type": "code",
   "execution_count": null,
   "id": "c7a5f1ea-2b0d-4037-b01d-531fce19875c",
   "metadata": {},
   "outputs": [],
   "source": [
    "const = init_const(SIMULATIONS[sim_label].planet, directory=paths.const)\n",
    "add_planet_conf_to_cubes(dset_regr, const=const)"
   ]
  },
  {
   "cell_type": "code",
   "execution_count": null,
   "id": "37859097-7bd2-4d94-aaf7-397597e1f767",
   "metadata": {},
   "outputs": [],
   "source": [
    "# Write the data to a netCDF file\n",
    "outdir = paths.data_proc / SIMULATIONS[sim_label].work_name\n",
    "outdir.mkdir(parents=True, exist_ok=True)\n",
    "gl_attrs = {\n",
    "    \"name\": SIMULATIONS[sim_label].work_name,\n",
    "    \"planet\": SIMULATIONS[sim_label].planet,\n",
    "    \"processed\": \"True\",\n",
    "}\n",
    "chunk_label = f\"_{int(fnames[0].parent.parent.name):03d}\"\n",
    "chunk_label += f\"-{int(fnames[-1].parent.parent.name):03d}\"\n",
    "fname_out = (\n",
    "    outdir\n",
    "    / f\"{SIMULATIONS[sim_label].work_name}_{time_prof}_{chunk_label}_regr_to_{tgt_sim_label}.nc\".lower()\n",
    ")\n",
    "save_cubelist(dset_regr, fname_out, **gl_attrs)\n",
    "print(f\"Saved to: {str(fname_out)}\")"
   ]
  },
  {
   "cell_type": "markdown",
   "id": "d465b4d3-dbf0-49d9-a783-a46beadc7033",
   "metadata": {},
   "source": [
    "## Unstructured -> rectilinear"
   ]
  },
  {
   "cell_type": "code",
   "execution_count": null,
   "id": "a7f610da-6f44-43f2-b200-b4e6857a3440",
   "metadata": {},
   "outputs": [],
   "source": [
    "cubes_to_regrid = time_mean(dset_raw, model=lfric)\n",
    "# cubes_to_regrid = iris.cube.CubeList([i for i in dset_raw])\n",
    "cubes_to_regrid.append(grid_cell_area)"
   ]
  },
  {
   "cell_type": "code",
   "execution_count": null,
   "id": "2fba267f-85fa-4752-a3fc-91fb3e254e2c",
   "metadata": {},
   "outputs": [],
   "source": [
    "n_res = 512\n",
    "tgt_cube = create_dummy_cube(n_res=n_res, pm180=True)"
   ]
  },
  {
   "cell_type": "code",
   "execution_count": null,
   "id": "18bba70a-ea79-4524-b2ab-423a1498460e",
   "metadata": {},
   "outputs": [],
   "source": [
    "%%time\n",
    "dset_regr = simple_regrid_lfric(\n",
    "    cubes_to_regrid,\n",
    "    tgt_cube=tgt_cube,\n",
    "    ref_cube_constr=lfric.thta if time_prof == \"averages\" else lfric.caf,\n",
    "    interp_vertically=(time_prof == \"averages\"),\n",
    ")\n",
    "\n",
    "for i, cube in enumerate(dset_regr):\n",
    "    print(f\"---|---|-{'-'*30}-|-{'-'*60}\")\n",
    "    print(f\"{i:<2d} | {cube.ndim} | {cube.var_name:>30} | {cube.name():>60}\")"
   ]
  },
  {
   "cell_type": "code",
   "execution_count": null,
   "id": "eafad9f4-85a3-4d65-b9bf-c8d5d304f889",
   "metadata": {},
   "outputs": [],
   "source": [
    "const = init_const(SIMULATIONS[sim_label].planet, directory=paths.const)\n",
    "add_planet_conf_to_cubes(dset_regr, const=const)"
   ]
  },
  {
   "cell_type": "code",
   "execution_count": null,
   "id": "39ecf9a8-3ca5-4faa-b0a0-169c8a981ce6",
   "metadata": {},
   "outputs": [],
   "source": [
    "# Write the data to a netCDF file\n",
    "outdir = paths.data_proc / SIMULATIONS[sim_label].work_name\n",
    "outdir.mkdir(parents=True, exist_ok=True)\n",
    "gl_attrs = {\n",
    "    \"name\": SIMULATIONS[sim_label].work_name,\n",
    "    \"planet\": SIMULATIONS[sim_label].planet,\n",
    "    \"processed\": \"True\",\n",
    "}\n",
    "chunk_label = f\"_{int(fnames[0].parent.parent.name):03d}\"\n",
    "chunk_label += f\"-{int(fnames[-1].parent.parent.name):03d}\"\n",
    "fname_out = (\n",
    "    outdir\n",
    "    / f\"{SIMULATIONS[sim_label].work_name}_{time_prof}_{chunk_label}_regr_{n_res}.nc\".lower()\n",
    ")\n",
    "save_cubelist(dset_regr, fname_out, **gl_attrs)\n",
    "print(f\"Saved to: {str(fname_out)}\")"
   ]
  }
 ],
 "metadata": {
  "kernelspec": {
   "display_name": "Python [conda env:stretched_mesh_env]",
   "language": "python",
   "name": "conda-env-stretched_mesh_env-py"
  },
  "language_info": {
   "codemirror_mode": {
    "name": "ipython",
    "version": 3
   },
   "file_extension": ".py",
   "mimetype": "text/x-python",
   "name": "python",
   "nbconvert_exporter": "python",
   "pygments_lexer": "ipython3",
   "version": "3.12.2"
  }
 },
 "nbformat": 4,
 "nbformat_minor": 5
}

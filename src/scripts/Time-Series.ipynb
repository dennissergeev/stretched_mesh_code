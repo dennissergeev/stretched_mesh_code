{
 "cells": [
  {
   "cell_type": "code",
   "execution_count": 1,
   "id": "d241d0d0-c777-4ab4-bffd-5b231b8621b9",
   "metadata": {},
   "outputs": [],
   "source": [
    "import iris\n",
    "import matplotlib.pyplot as plt\n",
    "import numpy as np\n",
    "\n",
    "from aeolus.lfric import load_lfric_raw\n",
    "from aeolus.const import init_const\n",
    "from aeolus.coord import get_cube_rel_days\n",
    "from aeolus.calc import time_mean, zonal_mean, spatial_mean, last_n_day_mean\n",
    "from aeolus.io import load_data\n",
    "from aeolus.lfric import ugrid_spatial, load_lfric_raw, clean_attrs, fix_time_coord\n",
    "from aeolus.model import lfric\n",
    "from aeolus.subset import DimConstr\n",
    "\n",
    "import paths"
   ]
  },
  {
   "cell_type": "code",
   "execution_count": 2,
   "id": "a638923d-de26-4d83-81e3-a44f80a4bd10",
   "metadata": {},
   "outputs": [],
   "source": [
    "# c_num = \"C48\"\n",
    "DC = DimConstr(model=lfric)\n",
    "sim_label = \"thai_hab1_conv_off_c192s0p125\"\n",
    "planet = \"thai_hab1\"\n",
    "# const = init_const(planet, directory=paths.const)"
   ]
  },
  {
   "cell_type": "code",
   "execution_count": 3,
   "id": "0aef0641-9be3-41e5-a393-fa2c4cb1af54",
   "metadata": {},
   "outputs": [],
   "source": [
    "dset_raw = load_lfric_raw(\n",
    "    paths.data_raw\n",
    "    / sim_label\n",
    "    / \"*\"\n",
    "    / f\"run*\"\n",
    "    / \"lfric_diag.nc\",\n",
    "    drop_coord=[\"forecast_reference_time\"],\n",
    ")"
   ]
  },
  {
   "cell_type": "code",
   "execution_count": 7,
   "id": "386b1ced-4169-4331-8401-4b0c54de927d",
   "metadata": {},
   "outputs": [],
   "source": [
    "dset_init = load_lfric_raw(\n",
    "    paths.data_raw\n",
    "    / sim_label\n",
    "    / \"1\"\n",
    "    / f\"run*\"\n",
    "    / \"lfric_initial.nc\",\n",
    "    drop_coord=[\"forecast_reference_time\"],\n",
    ")\n",
    "grid_cell_area = dset_init.extract_cube(\"grid_cell_area\")"
   ]
  },
  {
   "cell_type": "code",
   "execution_count": 6,
   "id": "f0ad5e9c-5dcc-45a0-85a2-59026fedb2c3",
   "metadata": {},
   "outputs": [
    {
     "data": {
      "text/plain": [
       "['cloud_amount_maxrnd',\n",
       " 'combined_cloud_amount',\n",
       " 'grid_surface_temperature',\n",
       " 'low_type_cloud_amount',\n",
       " 'very_high_type_cloud_amount',\n",
       " 'very_low_type_cloud_amount',\n",
       " 'high_type_cloud_amount',\n",
       " 'medium_type_cloud_amount',\n",
       " 'lw_up_toa']"
      ]
     },
     "execution_count": 6,
     "metadata": {},
     "output_type": "execute_result"
    }
   ],
   "source": [
    "[i.var_name for i in dset_raw.extract(DC.relax.t)]"
   ]
  },
  {
   "cell_type": "code",
   "execution_count": 13,
   "id": "66cf5daf-563e-41d0-9ff2-cc10a945005c",
   "metadata": {},
   "outputs": [],
   "source": [
    "t_sfc = dset_raw.extract_cube(\"grid_surface_temperature\")"
   ]
  },
  {
   "cell_type": "code",
   "execution_count": 35,
   "id": "30a1c200-077d-47e1-8fc2-cd72bb82ab4e",
   "metadata": {},
   "outputs": [],
   "source": [
    " # need to calculate weights!"
   ]
  },
  {
   "cell_type": "code",
   "execution_count": 36,
   "id": "5d0bb6c8-c296-4abe-ab75-9829cf79114b",
   "metadata": {},
   "outputs": [
    {
     "name": "stderr",
     "output_type": "stream",
     "text": [
      "/home/ds591/mambaforge/envs/lfric_ana/lib/python3.11/site-packages/iris/coords.py:2237: UserWarning: Cannot check if coordinate is contiguous: Invalid operation for 'mesh_coordinates', with 0 bound(s). Contiguous bounds are only defined for 1D coordinates with 2 bounds. Metadata may not be fully descriptive for 'mesh_coordinates'. Ignoring bounds.\n",
      "  warnings.warn(msg.format(str(exc), self.name()))\n"
     ]
    },
    {
     "data": {
      "text/plain": [
       "[<matplotlib.lines.Line2D at 0x7fa6cbfdec10>]"
      ]
     },
     "execution_count": 36,
     "metadata": {},
     "output_type": "execute_result"
    },
    {
     "data": {
      "image/png": "[encoded data removed]",
      "text/plain": [
       "<Figure size 640x480 with 1 Axes>"
      ]
     },
     "metadata": {},
     "output_type": "display_data"
    }
   ],
   "source": [
    "cube = ugrid_spatial(t_sfc, \"mean\", weights=grid_cell_area.lazy_data())\n",
    "\n",
    "plt.plot(get_cube_rel_days(cube), cube.data)"
   ]
  },
  {
   "cell_type": "code",
   "execution_count": null,
   "id": "ba0b904a-00aa-48ff-b89a-adf344f5fd77",
   "metadata": {},
   "outputs": [],
   "source": []
  },
  {
   "cell_type": "code",
   "execution_count": 10,
   "id": "759e2820-820d-41c8-a6de-e6917413864e",
   "metadata": {},
   "outputs": [
    {
     "ename": "ConstraintMismatchError",
     "evalue": "Got 0 cubes for constraint Constraint(name='sw_up_toa'), expecting 1.",
     "output_type": "error",
     "traceback": [
      "\u001b[0;31m---------------------------------------------------------------------------\u001b[0m",
      "\u001b[0;31mConstraintMismatchError\u001b[0m                   Traceback (most recent call last)",
      "Cell \u001b[0;32mIn[10], line 2\u001b[0m\n\u001b[1;32m      1\u001b[0m \u001b[38;5;66;03m# sw_direct_toa = ugrid_spatial(dset_raw.extract_cube(\"sw_direct_toa\"), \"mean\")\u001b[39;00m\n\u001b[0;32m----> 2\u001b[0m sw_up_toa \u001b[38;5;241m=\u001b[39m ugrid_spatial(\u001b[43mdset_raw\u001b[49m\u001b[38;5;241;43m.\u001b[39;49m\u001b[43mextract_cube\u001b[49m\u001b[43m(\u001b[49m\u001b[38;5;124;43m\"\u001b[39;49m\u001b[38;5;124;43msw_up_toa\u001b[39;49m\u001b[38;5;124;43m\"\u001b[39;49m\u001b[43m)\u001b[49m, \u001b[38;5;124m\"\u001b[39m\u001b[38;5;124mmean\u001b[39m\u001b[38;5;124m\"\u001b[39m)\n\u001b[1;32m      3\u001b[0m lw_up_toa \u001b[38;5;241m=\u001b[39m ugrid_spatial(dset_raw\u001b[38;5;241m.\u001b[39mextract_cube(\u001b[38;5;124m\"\u001b[39m\u001b[38;5;124mlw_up_toa\u001b[39m\u001b[38;5;124m\"\u001b[39m), \u001b[38;5;124m\"\u001b[39m\u001b[38;5;124mmean\u001b[39m\u001b[38;5;124m\"\u001b[39m)\n\u001b[1;32m      4\u001b[0m toa_net \u001b[38;5;241m=\u001b[39m \u001b[38;5;241m-\u001b[39m sw_up_toa \u001b[38;5;241m-\u001b[39m lw_up_toa\n",
      "File \u001b[0;32m~/mambaforge/envs/lfric_ana/lib/python3.11/site-packages/iris/cube.py:315\u001b[0m, in \u001b[0;36mCubeList.extract_cube\u001b[0;34m(self, constraint)\u001b[0m\n\u001b[1;32m    313\u001b[0m \u001b[38;5;66;03m# Just validate this, so we can accept strings etc, but not multiples.\u001b[39;00m\n\u001b[1;32m    314\u001b[0m constraint \u001b[38;5;241m=\u001b[39m iris\u001b[38;5;241m.\u001b[39m_constraints\u001b[38;5;241m.\u001b[39mas_constraint(constraint)\n\u001b[0;32m--> 315\u001b[0m \u001b[38;5;28;01mreturn\u001b[39;00m \u001b[38;5;28;43mself\u001b[39;49m\u001b[38;5;241;43m.\u001b[39;49m\u001b[43m_extract_and_merge\u001b[49m\u001b[43m(\u001b[49m\n\u001b[1;32m    316\u001b[0m \u001b[43m    \u001b[49m\u001b[38;5;28;43mself\u001b[39;49m\u001b[43m,\u001b[49m\u001b[43m \u001b[49m\u001b[43mconstraint\u001b[49m\u001b[43m,\u001b[49m\u001b[43m \u001b[49m\u001b[43mstrict\u001b[49m\u001b[38;5;241;43m=\u001b[39;49m\u001b[38;5;28;43;01mTrue\u001b[39;49;00m\u001b[43m,\u001b[49m\u001b[43m \u001b[49m\u001b[43mreturn_single_cube\u001b[49m\u001b[38;5;241;43m=\u001b[39;49m\u001b[38;5;28;43;01mTrue\u001b[39;49;00m\n\u001b[1;32m    317\u001b[0m \u001b[43m\u001b[49m\u001b[43m)\u001b[49m\n",
      "File \u001b[0;32m~/mambaforge/envs/lfric_ana/lib/python3.11/site-packages/iris/cube.py:362\u001b[0m, in \u001b[0;36mCubeList._extract_and_merge\u001b[0;34m(cubes, constraints, strict, return_single_cube)\u001b[0m\n\u001b[1;32m    357\u001b[0m     \u001b[38;5;28;01mif\u001b[39;00m strict \u001b[38;5;129;01mand\u001b[39;00m \u001b[38;5;28mlen\u001b[39m(constraint_cubes) \u001b[38;5;241m!=\u001b[39m \u001b[38;5;241m1\u001b[39m:\n\u001b[1;32m    358\u001b[0m         msg \u001b[38;5;241m=\u001b[39m \u001b[38;5;124m\"\u001b[39m\u001b[38;5;124mGot \u001b[39m\u001b[38;5;132;01m%s\u001b[39;00m\u001b[38;5;124m cubes for constraint \u001b[39m\u001b[38;5;132;01m%r\u001b[39;00m\u001b[38;5;124m, \u001b[39m\u001b[38;5;124m\"\u001b[39m \u001b[38;5;124m\"\u001b[39m\u001b[38;5;124mexpecting 1.\u001b[39m\u001b[38;5;124m\"\u001b[39m \u001b[38;5;241m%\u001b[39m (\n\u001b[1;32m    359\u001b[0m             \u001b[38;5;28mlen\u001b[39m(constraint_cubes),\n\u001b[1;32m    360\u001b[0m             constraint,\n\u001b[1;32m    361\u001b[0m         )\n\u001b[0;32m--> 362\u001b[0m         \u001b[38;5;28;01mraise\u001b[39;00m iris\u001b[38;5;241m.\u001b[39mexceptions\u001b[38;5;241m.\u001b[39mConstraintMismatchError(msg)\n\u001b[1;32m    363\u001b[0m     result\u001b[38;5;241m.\u001b[39mextend(constraint_cubes)\n\u001b[1;32m    365\u001b[0m \u001b[38;5;28;01mif\u001b[39;00m return_single_cube:\n",
      "\u001b[0;31mConstraintMismatchError\u001b[0m: Got 0 cubes for constraint Constraint(name='sw_up_toa'), expecting 1."
     ]
    }
   ],
   "source": [
    "sw_direct_toa = ugrid_spatial(dset_raw.extract_cube(\"sw_direct_toa\"), \"mean\")\n",
    "sw_up_toa = ugrid_spatial(dset_raw.extract_cube(\"sw_up_toa\"), \"mean\")\n",
    "lw_up_toa = ugrid_spatial(dset_raw.extract_cube(\"lw_up_toa\"), \"mean\")\n",
    "toa_net = sw_direct_toa - sw_up_toa - lw_up_toa"
   ]
  }
 ],
 "metadata": {
  "kernelspec": {
   "display_name": "Python [conda env:lfric_ana]",
   "language": "python",
   "name": "conda-env-lfric_ana-py"
  },
  "language_info": {
   "codemirror_mode": {
    "name": "ipython",
    "version": 3
   },
   "file_extension": ".py",
   "mimetype": "text/x-python",
   "name": "python",
   "nbconvert_exporter": "python",
   "pygments_lexer": "ipython3",
   "version": "3.11.5"
  }
 },
 "nbformat": 4,
 "nbformat_minor": 5
}
